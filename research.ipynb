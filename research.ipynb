{
 "cells": [
  {
   "cell_type": "markdown",
   "metadata": {},
   "source": [
    "![QuantConnect Logo](https://cdn.quantconnect.com/web/i/icon.png)\n",
    "<hr>"
   ]
  },
  {
   "cell_type": "code",
   "execution_count": 26,
   "metadata": {},
   "outputs": [],
   "source": [
    "# QuantBook Analysis Tool \n",
    "# For more information see [https://www.quantconnect.com/docs/research/overview]\n",
    "import matplotlib.pyplot as plt\n",
    "import pandas as pd\n",
    "import statsmodels\n",
    "from statsmodels.tsa.stattools import adfuller, kpss, acf, pacf, grangercausalitytests\n",
    "\n",
    "qb = QuantBook()\n",
    "window = 365"
   ]
  },
  {
   "cell_type": "code",
   "execution_count": 27,
   "metadata": {},
   "outputs": [],
   "source": [
    "    #Dickey-Fuller test stolen from https://www.hackdeploy.com/augmented-dickey-fuller-test-in-python/\n",
    "    def ADF_Stationarity_Test(timeseries, significance_level=0.05, printResults = True):\n",
    "        is_stationary = None\n",
    "        \n",
    "        adf_test = adfuller(timeseries, autolag='AIC')\n",
    "        pValue = adf_test[1]\n",
    "        \n",
    "        if (pValue<significance_level):\n",
    "            is_stationary = True\n",
    "        else:\n",
    "            is_stationary = False\n",
    "        \n",
    "        if printResults:\n",
    "            dfResults = pd.Series(adf_test[0:4], index=['ADF Test Statistic','P-Value','# Lags Used','# Observations Used'])\n",
    "            #Add Critical Values\n",
    "            for key,value in adf_test[4].items():\n",
    "                dfResults['Critical Value (%s)'%key] = value\n",
    "            print('Augmented Dickey-Fuller Test Results:')\n",
    "            print(dfResults)\n",
    "            print('Is it stationary? '+str(is_stationary))"
   ]
  },
  {
   "cell_type": "code",
   "execution_count": 12,
   "metadata": {},
   "outputs": [],
   "source": [
    "forex = qb.AddForex(\"USDCAD\", Resolution.Daily, Market.Oanda).Symbol\n",
    "forex_data = qb.History(forex, window)\n",
    "print('USDCAD:')\n",
    "forex_data['close'].plot()"
   ]
  },
  {
   "cell_type": "code",
   "execution_count": 13,
   "metadata": {},
   "outputs": [],
   "source": [
    "oil = qb.AddCfd(\"WTICOUSD\", Resolution.Daily, Market.Oanda).Symbol\n",
    "oil_data = qb.History(oil, window)\n",
    "plt.gca().invert_yaxis()\n",
    "print('Crude Oil Inverted:')\n",
    "oil_data['close'].plot()"
   ]
  },
  {
   "cell_type": "code",
   "execution_count": 14,
   "metadata": {},
   "outputs": [],
   "source": [
    "print('Running Augmented Dickey-Fuller Test for Crude Oil...')\n",
    "print()\n",
    "ADF_Stationarity_Test(oil_data['close'].values)"
   ]
  },
  {
   "cell_type": "code",
   "execution_count": 15,
   "metadata": {},
   "outputs": [],
   "source": [
    "print('Running Augmented Dickey-Fuller Test for Forex...')\n",
    "print()\n",
    "ADF_Stationarity_Test(forex_data['close'].values)"
   ]
  },
  {
   "cell_type": "code",
   "execution_count": 16,
   "metadata": {},
   "outputs": [],
   "source": [
    "# We need to split the series into training and testing data\n",
    "n_obs=70\n",
    "X_train_oil, X_test_oil = oil_data['close'][0:-n_obs], oil_data['close'][-n_obs:]\n",
    "#print(X_train_oil.shape, X_test_oil.shape)"
   ]
  },
  {
   "cell_type": "code",
   "execution_count": 17,
   "metadata": {},
   "outputs": [],
   "source": [
    "# We need to split the series into training and testing data\n",
    "n_obs=70\n",
    "X_train_forex, X_test_forex = forex_data['close'][0:-n_obs], oil_data['close'][-n_obs:]\n",
    "print(X_train_forex.shape, X_test_forex.shape)"
   ]
  },
  {
   "cell_type": "code",
   "execution_count": 18,
   "metadata": {},
   "outputs": [],
   "source": [
    "# Difference the training data to make it stationary\n",
    "train_oil = X_train_oil.dropna().values.tolist()\n",
    "train_forex = X_train_forex.dropna().values.tolist()\n",
    "#stationary_forex_data = X_train_forex.diff().dropna()"
   ]
  },
  {
   "cell_type": "code",
   "execution_count": 19,
   "metadata": {},
   "outputs": [],
   "source": [
    "# create a differenced series\n",
    "def difference(series, interval=1):\n",
    "    diff = []\n",
    "    for i in range(interval, len(series)):\n",
    "        value = series[i] - series[i - interval]\n",
    "        diff.append(value)\n",
    "    return diff\n"
   ]
  },
  {
   "cell_type": "code",
   "execution_count": 20,
   "metadata": {},
   "outputs": [],
   "source": [
    "#stationary_oil_data = pd.DataFrame(difference(oil_data['close'].values.tolist()))\n",
    "#stationary_forex_data = pd.DataFrame(difference(forex_data['close'].values.tolist()))\n",
    "stationary_oil_data = pd.DataFrame(difference(train_oil))\n",
    "stationary_forex_data = pd.DataFrame(difference(train_forex))\n",
    "print('Stationary Crude Oil:')\n",
    "stationary_oil_data.plot()"
   ]
  },
  {
   "cell_type": "code",
   "execution_count": 21,
   "metadata": {},
   "outputs": [],
   "source": [
    "print('Stationary Forex:')\n",
    "stationary_forex_data.plot()"
   ]
  },
  {
   "cell_type": "code",
   "execution_count": 22,
   "metadata": {},
   "outputs": [],
   "source": [
    "print('Running Augmented Dickey-Fuller Test for Stationary Crude Oil...')\n",
    "print()\n",
    "ADF_Stationarity_Test(stationary_oil_data.values)"
   ]
  },
  {
   "cell_type": "code",
   "execution_count": 23,
   "metadata": {},
   "outputs": [],
   "source": [
    "print('Running Augmented Dickey-Fuller Test for Stationary Crude Oil...')\n",
    "print()\n",
    "ADF_Stationarity_Test(stationary_forex_data.values)"
   ]
  },
  {
   "cell_type": "code",
   "execution_count": 24,
   "metadata": {
    "scrolled": true
   },
   "outputs": [],
   "source": [
    "oil_cad = pd.DataFrame({'Oil': np.squeeze(stationary_oil_data),\n",
    "                        'Cad': np.squeeze(stationary_forex_data)})\n",
    "\n",
    "print('Stationary Oil vs Cad')\n",
    "oil_cad.head()\n"
   ]
  },
  {
   "cell_type": "code",
   "execution_count": 25,
   "metadata": {},
   "outputs": [],
   "source": [
    "# https://medium.com/swlh/using-granger-causality-test-to-know-if-one-time-series-is-impacting-in-predicting-another-6285b9fd2d1c\n",
    "\n",
    "ganger_test = grangercausalitytests(oil_cad, maxlag=15)"
   ]
  },
  {
   "cell_type": "code",
   "execution_count": null,
   "metadata": {},
   "outputs": [],
   "source": [
    "\"\"\"\n",
    "Python Implementations of ARIMAX:\n",
    "https://pyflux.readthedocs.io/en/latest/arimax.html\n",
    "http://barnesanalytics.com/analyzing-multivariate-time-series-using-arimax-in-python-with-statsmodels\n",
    "https://www.kaggle.com/viridisquotient/arimax\n",
    "\"\"\""
   ]
  }
 ],
 "metadata": {
  "kernelspec": {
   "display_name": "Python 3",
   "language": "python",
   "name": "python3"
  },
  "language_info": {
   "codemirror_mode": {
    "name": "ipython",
    "version": 3
   },
   "file_extension": ".py",
   "mimetype": "text/x-python",
   "name": "python",
   "nbconvert_exporter": "python",
   "pygments_lexer": "ipython3",
   "version": "3.6.8"
  }
 },
 "nbformat": 4,
 "nbformat_minor": 2
}
