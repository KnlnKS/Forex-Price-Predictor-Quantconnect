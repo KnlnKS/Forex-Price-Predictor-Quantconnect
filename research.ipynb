{
 "cells": [
  {
   "cell_type": "markdown",
   "metadata": {},
   "source": [
    "![QuantConnect Logo](https://cdn.quantconnect.com/web/i/icon.png)\n",
    "<hr>"
   ]
  },
  {
   "cell_type": "code",
   "execution_count": 23,
   "metadata": {},
   "outputs": [],
   "source": [
    "# QuantBook Analysis Tool \n",
    "# For more information see [https://www.quantconnect.com/docs/research/overview]\n",
    "import matplotlib.pyplot as plt\n",
    "import pandas as pd\n",
    "import statsmodels\n",
    "from statsmodels.tsa.stattools import adfuller, kpss, acf, pacf, grangercausalitytests\n",
    "from statsmodels.graphics.tsaplots import plot_acf, plot_pacf\n",
    "import statsmodels.graphics.api as smg\n",
    "\n",
    "qb = QuantBook()\n",
    "start_time = datetime(2020, 1, 5) # start datetime for history call\n",
    "end_time = datetime(2020, 12, 3) # end datetime for history call"
   ]
  },
  {
   "cell_type": "code",
   "execution_count": 3,
   "metadata": {},
   "outputs": [],
   "source": [
    "    #Dickey-Fuller test stolen from https://www.hackdeploy.com/augmented-dickey-fuller-test-in-python/\n",
    "    def ADF_Stationarity_Test(timeseries, significance_level=0.05, printResults = True):\n",
    "        is_stationary = None\n",
    "        \n",
    "        adf_test = adfuller(timeseries, autolag='AIC')\n",
    "        pValue = adf_test[1]\n",
    "        \n",
    "        if (pValue<significance_level):\n",
    "            is_stationary = True\n",
    "        else:\n",
    "            is_stationary = False\n",
    "        \n",
    "        if printResults:\n",
    "            dfResults = pd.Series(adf_test[0:4], index=['ADF Test Statistic','P-Value','# Lags Used','# Observations Used'])\n",
    "            #Add Critical Values\n",
    "            for key,value in adf_test[4].items():\n",
    "                dfResults['Critical Value (%s)'%key] = value\n",
    "            print('Augmented Dickey-Fuller Test Results:')\n",
    "            print(dfResults)\n",
    "            print('Is it stationary? '+str(is_stationary))\n",
    "        else:\n",
    "            return is_stationary"
   ]
  },
  {
   "cell_type": "code",
   "execution_count": 4,
   "metadata": {},
   "outputs": [],
   "source": [
    "forex = qb.AddForex(\"USDCAD\", Resolution.Daily, Market.Oanda).Symbol\n",
    "forex_data = qb.History(forex, start_time, end_time)\n",
    "print(forex_data['close'].head())\n",
    "print(forex_data['close'].tail())\n",
    "print(forex_data['close'].size)\n",
    "forex_data['close'].plot(title='USDCAD')"
   ]
  },
  {
   "cell_type": "code",
   "execution_count": 5,
   "metadata": {},
   "outputs": [],
   "source": [
    "oil = qb.AddCfd(\"WTICOUSD\", Resolution.Daily, Market.Oanda).Symbol\n",
    "oil_data = qb.History(oil, start_time, end_time)\n",
    "print(oil_data['close'].head())\n",
    "print(oil_data['close'].tail())\n",
    "print(oil_data['close'].size)\n",
    "plt.gca().invert_yaxis()\n",
    "oil_data['close'].plot(title='Crude Oil Inverted')\n"
   ]
  },
  {
   "cell_type": "code",
   "execution_count": 25,
   "metadata": {},
   "outputs": [],
   "source": [
    "plt.scatter(oil_data['close'].values, forex_data['close'].values)\n",
    "plt.show()\n",
    "\n",
    "corr = np.corrcoef(oil_data['close'].values, forex_data['close'])\n",
    "print(\"Correlation between time series is \", corr[0][1])"
   ]
  },
  {
   "cell_type": "code",
   "execution_count": 7,
   "metadata": {},
   "outputs": [],
   "source": [
    "print('Running Augmented Dickey-Fuller Test for Crude Oil...\\n')\n",
    "ADF_Stationarity_Test(oil_data['close'].values)\n",
    "\n",
    "print('\\n\\n\\n')\n",
    "\n",
    "print('Running Augmented Dickey-Fuller Test for Forex...\\n')\n",
    "ADF_Stationarity_Test(forex_data['close'].values)"
   ]
  },
  {
   "cell_type": "code",
   "execution_count": 8,
   "metadata": {},
   "outputs": [],
   "source": [
    "# Note: Will import training data later.\n",
    "\"\"\"\n",
    "# We need to split the series into training and testing data\n",
    "n_obs=80\n",
    "X_train_oil, X_test_oil = oil_data['close'][0:-n_obs], oil_data['close'][-n_obs:]\n",
    "print(\"Oil:\")\n",
    "print(X_train_oil.shape, X_test_oil.shape)\n",
    "\n",
    "print()\n",
    "\n",
    "# We need to split the series into training and testing data\n",
    "n_obs=80\n",
    "X_train_forex, X_test_forex = forex_data['close'][0:-n_obs], oil_data['close'][-n_obs:]\n",
    "print(\"Cad\")\n",
    "print(X_train_forex.shape, X_test_forex.shape)\n",
    "\n",
    "# Difference the training data to make it stationary\n",
    "\n",
    "train_oil = X_train_oil.dropna().values.tolist()\n",
    "train_forex = X_train_forex.dropna().values.tolist()\n",
    "\n",
    "stationary_oil_data = pd.DataFrame(difference(train_oil))\n",
    "stationary_forex_data = pd.DataFrame(difference(train_forex))\n",
    "\n",
    "stationary_oil_data.plot(title='Stationary Crude Oil')\n",
    "stationary_forex_data.plot(title='Stationary Forex')\n",
    "\"\"\"\n",
    "print('Wow')"
   ]
  },
  {
   "cell_type": "code",
   "execution_count": 9,
   "metadata": {},
   "outputs": [],
   "source": [
    "# create a differenced series\n",
    "def difference(series, interval=1):\n",
    "    diff = []\n",
    "    for i in range(interval, len(series)):\n",
    "        value = series[i] - series[i - interval]\n",
    "        diff.append(value)\n",
    "    return diff"
   ]
  },
  {
   "cell_type": "code",
   "execution_count": 10,
   "metadata": {},
   "outputs": [],
   "source": [
    "print('Making data stationary...\\n')\n",
    "stationary_oil_data = pd.DataFrame(difference(oil_data['close']))\n",
    "stationary_forex_data = pd.DataFrame(difference(forex_data['close']))\n",
    "\n",
    "stationary_oil_data.plot(title='Stationary Crude Oil')\n",
    "stationary_forex_data.plot(title='Stationary Forex')"
   ]
  },
  {
   "cell_type": "code",
   "execution_count": 11,
   "metadata": {},
   "outputs": [],
   "source": [
    "print('Running Augmented Dickey-Fuller Test for Stationary Crude Oil...\\n')\n",
    "ADF_Stationarity_Test(stationary_oil_data.values)\n",
    "\n",
    "print('\\n\\n\\n')\n",
    "\n",
    "print('Running Augmented Dickey-Fuller Test for Stationary Crude Oil...\\n')\n",
    "ADF_Stationarity_Test(stationary_forex_data.values)"
   ]
  },
  {
   "cell_type": "code",
   "execution_count": 12,
   "metadata": {},
   "outputs": [],
   "source": [
    "# Testing for cointegration\n",
    "print('Testing for Cointegration...\\n')\n",
    "statsmodels.tsa.stattools.coint(stationary_oil_data, stationary_forex_data, trend='c', method='aeg', maxlag=None, autolag='aic', return_results=None)"
   ]
  },
  {
   "cell_type": "code",
   "execution_count": 13,
   "metadata": {
    "scrolled": true
   },
   "outputs": [],
   "source": [
    "oil_cad = pd.DataFrame({'Oil': np.squeeze(stationary_oil_data),\n",
    "                        'Cad': np.squeeze(stationary_forex_data)})\n",
    "\n",
    "print('Stationary Oil vs Cad')\n",
    "oil_cad.head()"
   ]
  },
  {
   "cell_type": "code",
   "execution_count": 14,
   "metadata": {},
   "outputs": [],
   "source": [
    "# https://medium.com/swlh/using-granger-causality-test-to-know-if-one-time-series-is-impacting-in-predicting-another-6285b9fd2d1c\n",
    "print('Running Granger Causality Test...\\n')\n",
    "granger_test = grangercausalitytests(oil_cad, maxlag=15)"
   ]
  },
  {
   "cell_type": "code",
   "execution_count": 21,
   "metadata": {},
   "outputs": [],
   "source": [
    "# Auto correlation test on raw data\n",
    "auto_corr_oil = plot_acf(oil_data['close'].values)\n",
    "auto_corr_oil.show()\n",
    "\n",
    "auto_corr_cad = plot_acf(forex_data['close'].values)\n",
    "auto_corr_cad.show()"
   ]
  },
  {
   "cell_type": "code",
   "execution_count": null,
   "metadata": {},
   "outputs": [],
   "source": [
    "# Cross correlation test on raw data\n",
    "cross_corr_oil = plot_pacf(forex_data['close'].values)\n",
    "cross_corr_oil.show()\n",
    "\n",
    "cross_corr_cad = plot_pacf(forex_data['close'].values)\n",
    "cross_corr_cad.show()"
   ]
  },
  {
   "cell_type": "code",
   "execution_count": 35,
   "metadata": {},
   "outputs": [],
   "source": [
    "wow = plt.xcorr(oil_data['close'].values, forex_data['close'].values,  usevlines=True, maxlags=25)\n",
    "plt.show()"
   ]
  },
  {
   "cell_type": "code",
   "execution_count": 17,
   "metadata": {},
   "outputs": [],
   "source": [
    "\"\"\"\n",
    "ARIMAX:\n",
    "https://pyflux.readthedocs.io/en/latest/arimax.html\n",
    "http://barnesanalytics.com/analyzing-multivariate-time-series-using-arimax-in-python-with-statsmodels\n",
    "https://www.kaggle.com/viridisquotient/arimax\n",
    "\n",
    "Arima:\n",
    "https://machinelearningmastery.com/arima-for-time-series-forecasting-with-python/\n",
    "\"\"\"\n",
    "\n",
    "\"\"\"\n",
    "Maybe start with 1 ar term.\n",
    "1,0,0\n",
    "\"\"\"\n",
    "\n",
    "print('Wow')"
   ]
  }
 ],
 "metadata": {
  "kernelspec": {
   "display_name": "Python 3",
   "language": "python",
   "name": "python3"
  },
  "language_info": {
   "codemirror_mode": {
    "name": "ipython",
    "version": 3
   },
   "file_extension": ".py",
   "mimetype": "text/x-python",
   "name": "python",
   "nbconvert_exporter": "python",
   "pygments_lexer": "ipython3",
   "version": "3.6.8"
  }
 },
 "nbformat": 4,
 "nbformat_minor": 2
}
